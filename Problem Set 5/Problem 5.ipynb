{
 "cells": [
  {
   "cell_type": "code",
   "execution_count": 14,
   "metadata": {},
   "outputs": [],
   "source": [
    "import numpy as np\n",
    "from matplotlib import pyplot as plt\n",
    "import time\n",
    "from mpl_toolkits import mplot3d\n",
    "%matplotlib inline\n",
    "from ipywidgets import interact, interactive\n",
    "from IPython.display import clear_output, display, HTML"
   ]
  },
  {
   "cell_type": "code",
   "execution_count": 121,
   "metadata": {},
   "outputs": [],
   "source": [
    "def relax_heat(npix,max_T = 100,iterations=1000):\n",
    "    U = np.zeros([npix,npix])\n",
    "    U[:,0] = 0\n",
    "    U[:,-1] = 0\n",
    "    U[0,:] = 0\n",
    "    U[-1,:] = 0\n",
    "\n",
    "    history = np.zeros([iterations,npix,npix])\n",
    "    print(\"Initializing relaxation ...\")\n",
    "    \n",
    "    # Relaxation algorithim loop\n",
    "    for i in range(iterations):\n",
    "            # Solve for new temperature\n",
    "            U[1:-1,1:-1] = U[1:-1,1:-1] + (1/8.)*(U[2:,1:-1]+U[:-2,1:-1]+U[1:-1,2:]+U[1:-1,:-2] -4.0*U[1:-1,1:-1])\n",
    "\n",
    "            # Linearly ramp the boundary temperature\n",
    "            U[:,0] = (i+1)*(max_T/iterations)\n",
    "            # Newmann Boundary condition \n",
    "            U[:,-1] = U[:,-2]\n",
    "            U[0,:]  = U[1,:]\n",
    "            U[-1,:] = U[-2,:]\n",
    "            # print(\"Relaxation progress: %.2f %% \\r\"%(i/iterations)*100, end = '') \n",
    "            history[i] = U\n",
    "          \n",
    "    print(\"Relaxation complete.\") \n",
    "    return U,history"
   ]
  },
  {
   "cell_type": "markdown",
   "metadata": {},
   "source": [
    "# Stability Criterion:\n",
    "\\begin{equation}\n",
    "D \\leq \\frac{\\Delta x^2}{4\\Delta t}\n",
    "\\end{equation}\n",
    "From Von Neumann stability analysis."
   ]
  },
  {
   "cell_type": "code",
   "execution_count": 122,
   "metadata": {
    "scrolled": false
   },
   "outputs": [
    {
     "name": "stdout",
     "output_type": "stream",
     "text": [
      "Initializing relaxation ...\n",
      "Relaxation complete.\n"
     ]
    }
   ],
   "source": [
    "npix = 1024//8;N = 10000;max_temp = 100\n",
    "t = np.arange(0,N,1)\n",
    "U,h = relax_heat(npix,max_temp,N)"
   ]
  },
  {
   "cell_type": "code",
   "execution_count": 123,
   "metadata": {},
   "outputs": [],
   "source": [
    "def plot_line(Distance):\n",
    "    plt.figure(figsize = (8,8))\n",
    "    plt.plot(t,h[:,npix//2,Distance])\n",
    "    plt.xlabel(\"time\");plt.ylabel(\"Temperature\");plt.grid();\n",
    "    plt.xlim([0,N]);plt.ylim([0,max_temp])\n",
    "    plt.show()"
   ]
  },
  {
   "cell_type": "code",
   "execution_count": 124,
   "metadata": {},
   "outputs": [],
   "source": [
    "def plot_map(Time):\n",
    "    plt.figure(figsize = (8,8))\n",
    "    plt.imshow(h[Time],cmap = \"hot\");plt.colorbar();plt.clim(0,max_temp)  \n",
    "    plt.show()"
   ]
  },
  {
   "cell_type": "code",
   "execution_count": 125,
   "metadata": {},
   "outputs": [
    {
     "data": {
      "application/vnd.jupyter.widget-view+json": {
       "model_id": "2005db830e6a4df0bcb1b81e44ddf2ce",
       "version_major": 2,
       "version_minor": 0
      },
      "text/plain": [
       "interactive(children=(IntSlider(value=4999, description='Time', max=9999), Output()), _dom_classes=('widget-in…"
      ]
     },
     "metadata": {},
     "output_type": "display_data"
    }
   ],
   "source": [
    "w = interactive(plot_map, Time =(0,N-1))\n",
    "display(w)"
   ]
  },
  {
   "cell_type": "code",
   "execution_count": 126,
   "metadata": {},
   "outputs": [
    {
     "data": {
      "application/vnd.jupyter.widget-view+json": {
       "model_id": "42dd4672927849f6a4c2b775ef0e866b",
       "version_major": 2,
       "version_minor": 0
      },
      "text/plain": [
       "interactive(children=(IntSlider(value=63, description='Distance', max=127), Output()), _dom_classes=('widget-i…"
      ]
     },
     "metadata": {},
     "output_type": "display_data"
    }
   ],
   "source": [
    "w = interactive(plot_line, Distance = (0,npix-1))\n",
    "display(w)"
   ]
  },
  {
   "cell_type": "code",
   "execution_count": null,
   "metadata": {},
   "outputs": [],
   "source": []
  }
 ],
 "metadata": {
  "kernelspec": {
   "display_name": "Python 3",
   "language": "python",
   "name": "python3"
  },
  "language_info": {
   "codemirror_mode": {
    "name": "ipython",
    "version": 3
   },
   "file_extension": ".py",
   "mimetype": "text/x-python",
   "name": "python",
   "nbconvert_exporter": "python",
   "pygments_lexer": "ipython3",
   "version": "3.7.1"
  }
 },
 "nbformat": 4,
 "nbformat_minor": 2
}
