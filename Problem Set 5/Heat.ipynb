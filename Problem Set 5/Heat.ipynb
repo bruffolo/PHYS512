{
 "cells": [
  {
   "cell_type": "code",
   "execution_count": 1,
   "metadata": {},
   "outputs": [],
   "source": [
    "import numpy as np\n",
    "from matplotlib import pyplot as plt\n",
    "import time\n",
    "from mpl_toolkits import mplot3d\n",
    "%matplotlib inline\n",
    "from ipywidgets import interact, interactive\n",
    "from IPython.display import clear_output, display, HTML"
   ]
  },
  {
   "cell_type": "code",
   "execution_count": 2,
   "metadata": {},
   "outputs": [],
   "source": [
    "def relax_heat(npix,max_T = 100,iterations=1000):\n",
    "    U = np.zeros([npix,npix])\n",
    "    U[:,0] = 0\n",
    "    U[:,-1] = 0\n",
    "    U[0,:] = 0\n",
    "    U[-1,:] = 0\n",
    "\n",
    "    history = np.zeros([iterations,npix,npix])\n",
    "    print(\"Initializing relaxation ...\")\n",
    "    \n",
    "    # Relaxation algorithim loop\n",
    "    for i in range(iterations):\n",
    "            # Solve for new temperature\n",
    "            U[1:-1,1:-1]=(U[2:,1:-1]+U[:-2,1:-1]+U[1:-1,2:]+U[1:-1,:-2])/4.0\n",
    "\n",
    "            # Linearly ramp the boundary temperature\n",
    "            U[:,0] = (i+1)*(max_T/iterations)\n",
    "            # Newmann Boundary condition \n",
    "            U[:,-1] = U[:,-2]\n",
    "            U[0,:]  = U[1,:]\n",
    "            U[-1,:] = U[-2,:]\n",
    "            # print(\"Relaxation progress: %.2f %% \\r\"%(i/iterations)*100, end = '') \n",
    "            history[i] = U\n",
    "          \n",
    "    print(\"Relaxation complete.\") \n",
    "    return U,history"
   ]
  },
  {
   "cell_type": "markdown",
   "metadata": {},
   "source": [
    "# Problem 5"
   ]
  },
  {
   "cell_type": "code",
   "execution_count": 3,
   "metadata": {
    "scrolled": false
   },
   "outputs": [
    {
     "name": "stdout",
     "output_type": "stream",
     "text": [
      "Initializing relaxation ...\n",
      "Relaxation complete.\n"
     ]
    }
   ],
   "source": [
    "npix = 1024//8;N = 200000;max_temp = 100\n",
    "t = np.arange(0,N,1)\n",
    "U,h = relax_heat(npix,max_temp,N)"
   ]
  },
  {
   "cell_type": "code",
   "execution_count": 4,
   "metadata": {},
   "outputs": [],
   "source": [
    "def plot_line(Distance):\n",
    "    plt.figure(figsize = (8,8))\n",
    "    plt.plot(t,h[:,npix//2,Distance])\n",
    "    plt.xlabel(\"time\");plt.ylabel(\"Temperature\");plt.grid();\n",
    "    plt.xlim([0,N]);plt.ylim([0,max_temp])\n",
    "    plt.show()"
   ]
  },
  {
   "cell_type": "code",
   "execution_count": 5,
   "metadata": {},
   "outputs": [],
   "source": [
    "def plot_map(Time):\n",
    "    plt.figure(figsize = (8,8))\n",
    "    plt.imshow(h[Time],cmap = \"hot\");plt.colorbar();plt.clim(0,max_temp)  \n",
    "    plt.show()"
   ]
  },
  {
   "cell_type": "code",
   "execution_count": 6,
   "metadata": {},
   "outputs": [
    {
     "data": {
      "application/vnd.jupyter.widget-view+json": {
       "model_id": "28c6d60b439f4cb2b0a08bfc8d2e8ff2",
       "version_major": 2,
       "version_minor": 0
      },
      "text/plain": [
       "interactive(children=(IntSlider(value=99999, description='Time', max=199999), Output()), _dom_classes=('widget…"
      ]
     },
     "metadata": {},
     "output_type": "display_data"
    }
   ],
   "source": [
    "w = interactive(plot_map, Time =(0,N-1))\n",
    "display(w)"
   ]
  },
  {
   "cell_type": "code",
   "execution_count": 8,
   "metadata": {},
   "outputs": [
    {
     "data": {
      "application/vnd.jupyter.widget-view+json": {
       "model_id": "f1d97e2cb8064bc4be44ee86becf078e",
       "version_major": 2,
       "version_minor": 0
      },
      "text/plain": [
       "interactive(children=(IntSlider(value=63, description='Distance', max=127), Output()), _dom_classes=('widget-i…"
      ]
     },
     "metadata": {},
     "output_type": "display_data"
    }
   ],
   "source": [
    "w = interactive(plot_line, Distance = (0,npix-1))\n",
    "display(w)"
   ]
  },
  {
   "cell_type": "code",
   "execution_count": null,
   "metadata": {},
   "outputs": [],
   "source": []
  }
 ],
 "metadata": {
  "kernelspec": {
   "display_name": "Python 3",
   "language": "python",
   "name": "python3"
  },
  "language_info": {
   "codemirror_mode": {
    "name": "ipython",
    "version": 3
   },
   "file_extension": ".py",
   "mimetype": "text/x-python",
   "name": "python",
   "nbconvert_exporter": "python",
   "pygments_lexer": "ipython3",
   "version": "3.7.1"
  }
 },
 "nbformat": 4,
 "nbformat_minor": 2
}
