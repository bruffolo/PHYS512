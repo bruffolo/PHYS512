{
 "cells": [
  {
   "cell_type": "code",
   "execution_count": 67,
   "metadata": {},
   "outputs": [],
   "source": [
    "import numpy as np;from scipy import signal;from scipy.interpolate import interp1d\n",
    "from scipy.signal import butter, filtfilt, iirdesign, zpk2tf, freqz\n",
    "import h5py;import json\n",
    "import matplotlib.pyplot as plt;import matplotlib.mlab as mlab \n",
    "import readligo as rl\n",
    "%matplotlib qt"
   ]
  },
  {
   "cell_type": "markdown",
   "metadata": {},
   "source": [
    "## Load LIGO data."
   ]
  },
  {
   "cell_type": "code",
   "execution_count": 68,
   "metadata": {},
   "outputs": [],
   "source": [
    "eventname = 'GW150914' \n",
    "plottype = \"png\"\n",
    "\n",
    "# Read the event properties from a local json file\n",
    "fnjson = \"BBH_events_v3.json\"\n",
    "try:\n",
    "    events = json.load(open(fnjson,\"r\"))\n",
    "except IOError:\n",
    "    print(\"Cannot find resource file \"+fnjson)\n",
    "\n",
    "# Extract the parameters for the desired event:\n",
    "event = events[eventname]\n",
    "fn_H1 = event['fn_H1']              # File name for H1 data\n",
    "fn_L1 = event['fn_L1']              # File name for L1 data\n",
    "fn_template = event['fn_template']  # File name for template waveform\n",
    "fs = event['fs']                    # Set sampling rate\n",
    "tevent = event['tevent']            # Set approximate event GPS time\n",
    "fband = event['fband']              # frequency band for bandpassing signal\n",
    "\n",
    "try:\n",
    "    # read in data from H1 and L1, if available:\n",
    "    strain_H1, time_H1, chan_dict_H1 = rl.loaddata(fn_H1, 'H1')\n",
    "    strain_L1, time_L1, chan_dict_L1 = rl.loaddata(fn_L1, 'L1')\n",
    "except:\n",
    "    print(\"Cannot find data files!\")"
   ]
  },
  {
   "cell_type": "code",
   "execution_count": 69,
   "metadata": {},
   "outputs": [],
   "source": [
    "# both H1 and L1 will have the same time vector, so:\n",
    "time = time_H1\n",
    "# the time sample interval (uniformly sampled!)\n",
    "dt = time[1] - time[0]"
   ]
  },
  {
   "cell_type": "code",
   "execution_count": 70,
   "metadata": {},
   "outputs": [],
   "source": [
    "# plot +- deltat seconds around the event:\n",
    "deltat = 5\n",
    "# index into the strain time series for this time interval:\n",
    "indxt = np.where((time >= tevent-deltat) & (time < tevent+deltat)) \n",
    "plt.figure()\n",
    "plt.plot(time[indxt]-tevent,strain_H1[indxt],'r',label='H1 strain')\n",
    "plt.xlabel('time (s) since '+str(tevent));plt.ylabel('strain')\n",
    "plt.legend(loc='lower right');plt.title('Advanced LIGO strain data near '+eventname)\n",
    "plt.show()"
   ]
  },
  {
   "cell_type": "markdown",
   "metadata": {},
   "source": [
    "## Amplitude Spectral Density"
   ]
  },
  {
   "cell_type": "code",
   "execution_count": 71,
   "metadata": {},
   "outputs": [],
   "source": [
    "# Max and min frequncies to be plotted for frequency domain representations of data\n",
    "f_min,f_max = 20,2000"
   ]
  },
  {
   "cell_type": "code",
   "execution_count": 72,
   "metadata": {},
   "outputs": [],
   "source": [
    "# Compute FT of windowed strain data\n",
    "l = strain_H1.size\n",
    "hamming = np.hamming(l) # Hamming window\n",
    "tukey = signal.tukey(l, alpha=1./8)# Tukey window\n",
    "ft = dt*np.fft.rfft(strain_H1*tukey)\n",
    "freqs = np.fft.rfftfreq(l,d=dt)"
   ]
  },
  {
   "cell_type": "code",
   "execution_count": 73,
   "metadata": {},
   "outputs": [],
   "source": [
    "%matplotlib qt\n",
    "plt.figure()\n",
    "plt.loglog(freqs,abs(ft), 'orange',label = \"Raw data\")\n",
    "plt.ylabel('ASD (strain/rtHz)');plt.xlabel('Freq (Hz)')\n",
    "plt.xlim(f_min,f_max)\n",
    "plt.grid();plt.legend();plt.show()"
   ]
  },
  {
   "cell_type": "markdown",
   "metadata": {},
   "source": [
    "$\\rightarrow$Noise is reduced by applying Welch's method (a standard averaging technique) on the data"
   ]
  },
  {
   "cell_type": "code",
   "execution_count": 74,
   "metadata": {},
   "outputs": [],
   "source": [
    "# Compute PSD by Welch's method\n",
    "f,psd = signal.welch(strain_H1,fs,nperseg = 2**int(np.log2(l/8)))"
   ]
  },
  {
   "cell_type": "code",
   "execution_count": 75,
   "metadata": {},
   "outputs": [],
   "source": [
    "plt.figure()\n",
    "plt.loglog(freqs,abs(ft), 'orange',label = \"Raw data\")\n",
    "plt.loglog(f,np.sqrt(2*l*psd/fs),color = 'blue',label = \"Welch's method\")\n",
    "plt.ylabel('ASD (strain/rtHz)'); plt.xlabel('Freq (Hz)')\n",
    "plt.xlim(f_min,f_max)\n",
    "plt.grid();plt.legend();plt.show()"
   ]
  },
  {
   "cell_type": "markdown",
   "metadata": {},
   "source": [
    "# Noise model and Data Whitening"
   ]
  },
  {
   "cell_type": "markdown",
   "metadata": {},
   "source": [
    "The strain data is \"whitened\" - (divided by the noise amplitude spectrum model, in the fourier domain). This suppresses the extra noise at low frequencies and at the spectral lines, to better resolve the weak signals in the most sensitive band.\n",
    "\n",
    "$\\rightarrow$ The resulting time series is no longer in units of strain; now in units of \"sigmas\" away from the mean noise."
   ]
  },
  {
   "cell_type": "code",
   "execution_count": 76,
   "metadata": {},
   "outputs": [],
   "source": [
    "# Noise model\n",
    "noise_amplitude = interp1d(f, np.sqrt(2*l*psd/fs))"
   ]
  },
  {
   "cell_type": "code",
   "execution_count": 77,
   "metadata": {},
   "outputs": [],
   "source": [
    "# \"Whiten\" the data by dividing by the noise amplitude\n",
    "wh_ft = ft/noise_amplitude(freqs)\n",
    "\n",
    "# Go back to the time domain\n",
    "strain_wh = dt*np.fft.irfft(wh_ft,n=l)"
   ]
  },
  {
   "cell_type": "code",
   "execution_count": 100,
   "metadata": {},
   "outputs": [],
   "source": [
    "# Plot the fourier content of the whitened data\n",
    "plt.figure()\n",
    "plt.loglog(freqs,dt*np.abs(wh_ft))\n",
    "#plt.loglog(freqs,np.abs(ft)*dt*1e21)\n",
    "plt.xlim(1)\n",
    "plt.show()"
   ]
  },
  {
   "cell_type": "code",
   "execution_count": 90,
   "metadata": {},
   "outputs": [],
   "source": [
    "# Plot the whitend data in the time domain\n",
    "plt.figure()\n",
    "plt.plot(time-tevent,strain_wh,color='r')\n",
    "plt.show()"
   ]
  },
  {
   "cell_type": "markdown",
   "metadata": {},
   "source": [
    "# Filtering"
   ]
  },
  {
   "cell_type": "markdown",
   "metadata": {},
   "source": [
    "Now the signal is not quite yet visible because of low and high frequency noise in regions far outside that of interest.\n",
    "\n",
    "$\\rightarrow$ Apply a Bandpass filter to the remaining signal."
   ]
  },
  {
   "cell_type": "code",
   "execution_count": 85,
   "metadata": {},
   "outputs": [],
   "source": [
    "# Use same bandpass filter as the ligo tutorial!\n",
    "bb, ab = butter(4, [20*2./fs, fband[1]*2./fs], btype='band')\n",
    "normalization = np.sqrt((fband[1]-fband[0])/(fs/2))\n",
    "strain_wh_bd = filtfilt(bb, ab, strain_wh) / normalization"
   ]
  },
  {
   "cell_type": "code",
   "execution_count": 105,
   "metadata": {},
   "outputs": [],
   "source": [
    "plt.figure()\n",
    "plt.loglog(freqs,dt*np.abs(np.fft.rfft(strain_wh_bd,n=l)))\n",
    "#plt.loglog(freqs,dt*np.abs(ft)*1e21)\n",
    "plt.xlim(1)\n",
    "plt.show()"
   ]
  },
  {
   "cell_type": "code",
   "execution_count": 82,
   "metadata": {},
   "outputs": [],
   "source": [
    "plt.figure()\n",
    "plt.plot(time-tevent,hamming*strain_wh_bd, 'r',label=\"Filtered Strain data\")\n",
    "plt.xlim([-1,1])\n",
    "plt.xlabel(\"time\");plt.ylabel(\"Whitened strain (units of noise stdev)\")\n",
    "plt.legend(loc='upper left');plt.grid();plt.show()"
   ]
  },
  {
   "cell_type": "markdown",
   "metadata": {},
   "source": [
    "# Matched Filter"
   ]
  },
  {
   "cell_type": "code",
   "execution_count": null,
   "metadata": {},
   "outputs": [],
   "source": []
  }
 ],
 "metadata": {
  "kernelspec": {
   "display_name": "Python 3",
   "language": "python",
   "name": "python3"
  },
  "language_info": {
   "codemirror_mode": {
    "name": "ipython",
    "version": 3
   },
   "file_extension": ".py",
   "mimetype": "text/x-python",
   "name": "python",
   "nbconvert_exporter": "python",
   "pygments_lexer": "ipython3",
   "version": "3.7.1"
  }
 },
 "nbformat": 4,
 "nbformat_minor": 1
}
